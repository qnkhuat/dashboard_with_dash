{
 "cells": [
  {
   "cell_type": "code",
   "execution_count": 1,
   "metadata": {},
   "outputs": [],
   "source": [
    "%load_ext autoreload\n",
    "%autoreload 2"
   ]
  },
  {
   "cell_type": "code",
   "execution_count": 2,
   "metadata": {},
   "outputs": [],
   "source": [
    "import sys\n",
    "sys.path.insert(0,'..')"
   ]
  },
  {
   "cell_type": "code",
   "execution_count": 3,
   "metadata": {},
   "outputs": [],
   "source": [
    "from src.connectors import mongo,queries"
   ]
  },
  {
   "cell_type": "code",
   "execution_count": 4,
   "metadata": {},
   "outputs": [],
   "source": [
    "from datetime import datetime"
   ]
  },
  {
   "cell_type": "code",
   "execution_count": 5,
   "metadata": {},
   "outputs": [],
   "source": [
    "import pandas as pd\n",
    "import numpy as np\n",
    "import matplotlib.pyplot as plt\n",
    "import seaborn as sns"
   ]
  },
  {
   "cell_type": "code",
   "execution_count": 6,
   "metadata": {},
   "outputs": [],
   "source": [
    "import plotly.plotly as py\n",
    "import plotly.offline as pyo\n",
    "import plotly.graph_objs as go"
   ]
  },
  {
   "cell_type": "code",
   "execution_count": 7,
   "metadata": {},
   "outputs": [],
   "source": [
    "def init():\n",
    "    global df_e,df_e_gg,df_cl,df_u,df_e_cl,df_cl_e\n",
    "    print('Initializing data')\n",
    "#     start = time()\n",
    "    #df_e = queries.df_emotion([8513,7238,8453,8183,8486])\n",
    "    #df_e = queries.df_emotion()\n",
    "    #df_e.to_csv('src/data/emotion_05042019.csv',index=False)\n",
    "    df_e = pd.read_csv('../src/data/emotion_10042019.csv')\n",
    "    df_e_gg = pd.read_csv('../src/data/emotion_gg_12042019.csv')\n",
    "    df_cl = queries.df_classinfo()\n",
    "    df_u = queries.df_user()\n",
    "\n",
    "\n",
    "    # Emotion through time with added class info\n",
    "    df_e_cl = df_e.merge(df_cl,left_on='id_class',right_on='roomid')\n",
    "    assert df_e_cl.shape[0]==df_e.shape[0] , \"Shape of Dataframe changed\"\n",
    "    \n",
    "    df_cl_e = df_e.groupby('id_class').emotion_score.mean().to_frame().reset_index().merge(df_cl,left_on='id_class',right_on='roomid',how='right')\n",
    "\n",
    "\n"
   ]
  },
  {
   "cell_type": "code",
   "execution_count": 8,
   "metadata": {},
   "outputs": [
    {
     "name": "stdout",
     "output_type": "stream",
     "text": [
      "Initializing data\n"
     ]
    }
   ],
   "source": [
    "init()"
   ]
  },
  {
   "cell_type": "markdown",
   "metadata": {},
   "source": [
    "Charts : \n",
    "1. User emotion of each classes\n",
    "2. User emotion over time\n",
    "3. \n",
    "\n",
    "\n",
    "Info : \n",
    "1. User basic infos : last access, profile\n",
    "2. User total bookings\n",
    "3. Homework scoring\n",
    "4. Placementest score\n",
    "5. Current level\n",
    "6. Remaining classes"
   ]
  },
  {
   "cell_type": "code",
   "execution_count": 9,
   "metadata": {},
   "outputs": [
    {
     "data": {
      "text/html": [
       "<div>\n",
       "<style scoped>\n",
       "    .dataframe tbody tr th:only-of-type {\n",
       "        vertical-align: middle;\n",
       "    }\n",
       "\n",
       "    .dataframe tbody tr th {\n",
       "        vertical-align: top;\n",
       "    }\n",
       "\n",
       "    .dataframe thead th {\n",
       "        text-align: right;\n",
       "    }\n",
       "</style>\n",
       "<table border=\"1\" class=\"dataframe\">\n",
       "  <thead>\n",
       "    <tr style=\"text-align: right;\">\n",
       "      <th></th>\n",
       "      <th>username</th>\n",
       "      <th>kid_name</th>\n",
       "      <th>id</th>\n",
       "      <th>firstname</th>\n",
       "      <th>lastname</th>\n",
       "      <th>kid_sex</th>\n",
       "      <th>lastaccess</th>\n",
       "      <th>kid_birthday</th>\n",
       "      <th>pictures</th>\n",
       "      <th>fullname</th>\n",
       "    </tr>\n",
       "  </thead>\n",
       "  <tbody>\n",
       "    <tr>\n",
       "      <th>0</th>\n",
       "      <td>guest</td>\n",
       "      <td>None</td>\n",
       "      <td>1</td>\n",
       "      <td>Guest user</td>\n",
       "      <td></td>\n",
       "      <td>None</td>\n",
       "      <td>1970-01-01 08:00:00</td>\n",
       "      <td>None</td>\n",
       "      <td>None</td>\n",
       "      <td>Guest user</td>\n",
       "    </tr>\n",
       "    <tr>\n",
       "      <th>1</th>\n",
       "      <td>admin</td>\n",
       "      <td>admin</td>\n",
       "      <td>2</td>\n",
       "      <td>Kidtopi</td>\n",
       "      <td>Kidtopi</td>\n",
       "      <td>None</td>\n",
       "      <td>2019-04-23 15:05:43</td>\n",
       "      <td>09-06-2010</td>\n",
       "      <td>None</td>\n",
       "      <td>Kidtopi</td>\n",
       "    </tr>\n",
       "    <tr>\n",
       "      <th>2</th>\n",
       "      <td>alecisgood</td>\n",
       "      <td>None</td>\n",
       "      <td>209</td>\n",
       "      <td>Alec</td>\n",
       "      <td>Alec</td>\n",
       "      <td>None</td>\n",
       "      <td>2019-01-15 18:06:43</td>\n",
       "      <td>None</td>\n",
       "      <td>None</td>\n",
       "      <td>Alec</td>\n",
       "    </tr>\n",
       "    <tr>\n",
       "      <th>3</th>\n",
       "      <td>dyontran</td>\n",
       "      <td>None</td>\n",
       "      <td>210</td>\n",
       "      <td>Dyon Tran</td>\n",
       "      <td>Tran</td>\n",
       "      <td>None</td>\n",
       "      <td>1970-01-01 08:00:00</td>\n",
       "      <td>None</td>\n",
       "      <td>https://topkid.s3.ap-southeast-1.amazonaws.com...</td>\n",
       "      <td>Dyon Tran</td>\n",
       "    </tr>\n",
       "    <tr>\n",
       "      <th>4</th>\n",
       "      <td>nghia</td>\n",
       "      <td>None</td>\n",
       "      <td>211</td>\n",
       "      <td>Nghia</td>\n",
       "      <td>Nghia</td>\n",
       "      <td>None</td>\n",
       "      <td>1970-01-01 08:00:00</td>\n",
       "      <td>None</td>\n",
       "      <td>None</td>\n",
       "      <td>Nghia</td>\n",
       "    </tr>\n",
       "  </tbody>\n",
       "</table>\n",
       "</div>"
      ],
      "text/plain": [
       "     username kid_name   id   firstname lastname kid_sex          lastaccess  \\\n",
       "0       guest     None    1  Guest user             None 1970-01-01 08:00:00   \n",
       "1       admin    admin    2     Kidtopi  Kidtopi    None 2019-04-23 15:05:43   \n",
       "2  alecisgood     None  209        Alec     Alec    None 2019-01-15 18:06:43   \n",
       "3    dyontran     None  210   Dyon Tran     Tran    None 1970-01-01 08:00:00   \n",
       "4       nghia     None  211       Nghia    Nghia    None 1970-01-01 08:00:00   \n",
       "\n",
       "  kid_birthday                                           pictures    fullname  \n",
       "0         None                                               None  Guest user  \n",
       "1   09-06-2010                                               None     Kidtopi  \n",
       "2         None                                               None        Alec  \n",
       "3         None  https://topkid.s3.ap-southeast-1.amazonaws.com...   Dyon Tran  \n",
       "4         None                                               None       Nghia  "
      ]
     },
     "execution_count": 9,
     "metadata": {},
     "output_type": "execute_result"
    }
   ],
   "source": [
    "df_u.head()"
   ]
  },
  {
   "cell_type": "code",
   "execution_count": 93,
   "metadata": {},
   "outputs": [
    {
     "data": {
      "text/plain": [
       "'0    guest\\nName: username, dtype: object'"
      ]
     },
     "execution_count": 93,
     "metadata": {},
     "output_type": "execute_result"
    }
   ],
   "source": [
    "f\"{df_u[df_u.id==1]['username']}\""
   ]
  },
  {
   "cell_type": "code",
   "execution_count": 101,
   "metadata": {},
   "outputs": [
    {
     "data": {
      "text/plain": [
       "<bound method Series.view of 0    guest\n",
       "Name: username, dtype: object>"
      ]
     },
     "execution_count": 101,
     "metadata": {},
     "output_type": "execute_result"
    }
   ],
   "source": [
    "df_u[df_u.id==1].username.view"
   ]
  },
  {
   "cell_type": "code",
   "execution_count": 42,
   "metadata": {},
   "outputs": [
    {
     "data": {
      "text/plain": [
       "datetime.date(2019, 3, 23)"
      ]
     },
     "execution_count": 42,
     "metadata": {},
     "output_type": "execute_result"
    }
   ],
   "source": [
    "df_cl_e.starttime.dt.date.max()"
   ]
  },
  {
   "cell_type": "code",
   "execution_count": 44,
   "metadata": {},
   "outputs": [
    {
     "data": {
      "text/html": [
       "<div>\n",
       "<style scoped>\n",
       "    .dataframe tbody tr th:only-of-type {\n",
       "        vertical-align: middle;\n",
       "    }\n",
       "\n",
       "    .dataframe tbody tr th {\n",
       "        vertical-align: top;\n",
       "    }\n",
       "\n",
       "    .dataframe thead th {\n",
       "        text-align: right;\n",
       "    }\n",
       "</style>\n",
       "<table border=\"1\" class=\"dataframe\">\n",
       "  <thead>\n",
       "    <tr style=\"text-align: right;\">\n",
       "      <th></th>\n",
       "      <th>id_class</th>\n",
       "      <th>emotion_score</th>\n",
       "      <th>day_learned</th>\n",
       "      <th>is_completed</th>\n",
       "      <th>studentid</th>\n",
       "      <th>lessonid</th>\n",
       "      <th>lessonname</th>\n",
       "      <th>roomid</th>\n",
       "      <th>star</th>\n",
       "      <th>starttime</th>\n",
       "      <th>teacherid</th>\n",
       "      <th>kidname</th>\n",
       "    </tr>\n",
       "  </thead>\n",
       "  <tbody>\n",
       "    <tr>\n",
       "      <th>29</th>\n",
       "      <td>8291.0</td>\n",
       "      <td>4.375428</td>\n",
       "      <td>0</td>\n",
       "      <td>1</td>\n",
       "      <td>234</td>\n",
       "      <td>530</td>\n",
       "      <td>Lesson 20</td>\n",
       "      <td>8291</td>\n",
       "      <td>5.0</td>\n",
       "      <td>2019-03-26 20:30:00</td>\n",
       "      <td>282</td>\n",
       "      <td>Nguyễn Phan Anh</td>\n",
       "    </tr>\n",
       "  </tbody>\n",
       "</table>\n",
       "</div>"
      ],
      "text/plain": [
       "    id_class  emotion_score  day_learned  is_completed  studentid  lessonid  \\\n",
       "29    8291.0       4.375428            0             1        234       530   \n",
       "\n",
       "   lessonname  roomid  star           starttime  teacherid          kidname  \n",
       "29  Lesson 20    8291   5.0 2019-03-26 20:30:00        282  Nguyễn Phan Anh  "
      ]
     },
     "execution_count": 44,
     "metadata": {},
     "output_type": "execute_result"
    }
   ],
   "source": [
    "df = df_cl_e[df_cl_e.roomid ==8291]\n",
    "df"
   ]
  },
  {
   "cell_type": "code",
   "execution_count": 25,
   "metadata": {},
   "outputs": [
    {
     "ename": "NameError",
     "evalue": "name 'df_cl_e' is not defined",
     "output_type": "error",
     "traceback": [
      "\u001b[0;31m---------------------------------------------------------------------------\u001b[0m",
      "\u001b[0;31mNameError\u001b[0m                                 Traceback (most recent call last)",
      "\u001b[0;32m<ipython-input-25-e988892f8169>\u001b[0m in \u001b[0;36m<module>\u001b[0;34m\u001b[0m\n\u001b[0;32m----> 1\u001b[0;31m \u001b[0mdf_cl_e\u001b[0m\u001b[0;34m.\u001b[0m\u001b[0mshape\u001b[0m\u001b[0;34m\u001b[0m\u001b[0;34m\u001b[0m\u001b[0m\n\u001b[0m",
      "\u001b[0;31mNameError\u001b[0m: name 'df_cl_e' is not defined"
     ]
    }
   ],
   "source": [
    "df_cl_e.shape"
   ]
  },
  {
   "cell_type": "code",
   "execution_count": 24,
   "metadata": {},
   "outputs": [
    {
     "data": {
      "text/plain": [
       "(364394, 26)"
      ]
     },
     "execution_count": 24,
     "metadata": {},
     "output_type": "execute_result"
    }
   ],
   "source": [
    "df_e_cl.shape"
   ]
  },
  {
   "cell_type": "code",
   "execution_count": 64,
   "metadata": {},
   "outputs": [
    {
     "data": {
      "text/html": [
       "<div>\n",
       "<style scoped>\n",
       "    .dataframe tbody tr th:only-of-type {\n",
       "        vertical-align: middle;\n",
       "    }\n",
       "\n",
       "    .dataframe tbody tr th {\n",
       "        vertical-align: top;\n",
       "    }\n",
       "\n",
       "    .dataframe thead th {\n",
       "        text-align: right;\n",
       "    }\n",
       "</style>\n",
       "<table border=\"1\" class=\"dataframe\">\n",
       "  <thead>\n",
       "    <tr style=\"text-align: right;\">\n",
       "      <th></th>\n",
       "      <th>id_class</th>\n",
       "      <th>emotion_score</th>\n",
       "      <th>day_learned</th>\n",
       "      <th>is_completed</th>\n",
       "      <th>studentid</th>\n",
       "      <th>lessonid</th>\n",
       "      <th>lessonname</th>\n",
       "      <th>roomid</th>\n",
       "      <th>star</th>\n",
       "      <th>starttime</th>\n",
       "      <th>teacherid</th>\n",
       "      <th>kidname</th>\n",
       "    </tr>\n",
       "  </thead>\n",
       "  <tbody>\n",
       "    <tr>\n",
       "      <th>19</th>\n",
       "      <td>8102.0</td>\n",
       "      <td>4.244541</td>\n",
       "      <td>0</td>\n",
       "      <td>1</td>\n",
       "      <td>236</td>\n",
       "      <td>502</td>\n",
       "      <td>Lesson 16</td>\n",
       "      <td>8102</td>\n",
       "      <td>5.0</td>\n",
       "      <td>2019-03-27 20:00:00</td>\n",
       "      <td>220</td>\n",
       "      <td>Nguyễn Bảo Trân</td>\n",
       "    </tr>\n",
       "    <tr>\n",
       "      <th>20</th>\n",
       "      <td>8111.0</td>\n",
       "      <td>4.420974</td>\n",
       "      <td>0</td>\n",
       "      <td>1</td>\n",
       "      <td>236</td>\n",
       "      <td>503</td>\n",
       "      <td>Lesson 17</td>\n",
       "      <td>8111</td>\n",
       "      <td>5.0</td>\n",
       "      <td>2019-03-28 20:00:00</td>\n",
       "      <td>223</td>\n",
       "      <td>Nguyễn Bảo Trân</td>\n",
       "    </tr>\n",
       "    <tr>\n",
       "      <th>71</th>\n",
       "      <td>9314.0</td>\n",
       "      <td>4.244904</td>\n",
       "      <td>0</td>\n",
       "      <td>1</td>\n",
       "      <td>236</td>\n",
       "      <td>505</td>\n",
       "      <td>Lesson 19</td>\n",
       "      <td>9314</td>\n",
       "      <td>NaN</td>\n",
       "      <td>2019-04-04 20:30:00</td>\n",
       "      <td>282</td>\n",
       "      <td>Nguyễn Bảo Trân</td>\n",
       "    </tr>\n",
       "    <tr>\n",
       "      <th>101</th>\n",
       "      <td>NaN</td>\n",
       "      <td>NaN</td>\n",
       "      <td>0</td>\n",
       "      <td>1</td>\n",
       "      <td>236</td>\n",
       "      <td>504</td>\n",
       "      <td>Lesson 18</td>\n",
       "      <td>8120</td>\n",
       "      <td>NaN</td>\n",
       "      <td>2019-03-30 20:00:00</td>\n",
       "      <td>218</td>\n",
       "      <td>Nguyễn Bảo Trân</td>\n",
       "    </tr>\n",
       "    <tr>\n",
       "      <th>132</th>\n",
       "      <td>NaN</td>\n",
       "      <td>NaN</td>\n",
       "      <td>0</td>\n",
       "      <td>1</td>\n",
       "      <td>236</td>\n",
       "      <td>530</td>\n",
       "      <td>Lesson 20</td>\n",
       "      <td>9323</td>\n",
       "      <td>NaN</td>\n",
       "      <td>2019-04-06 20:00:00</td>\n",
       "      <td>223</td>\n",
       "      <td>Nguyễn Bảo Trân</td>\n",
       "    </tr>\n",
       "  </tbody>\n",
       "</table>\n",
       "</div>"
      ],
      "text/plain": [
       "     id_class  emotion_score  day_learned  is_completed  studentid  lessonid  \\\n",
       "19     8102.0       4.244541            0             1        236       502   \n",
       "20     8111.0       4.420974            0             1        236       503   \n",
       "71     9314.0       4.244904            0             1        236       505   \n",
       "101       NaN            NaN            0             1        236       504   \n",
       "132       NaN            NaN            0             1        236       530   \n",
       "\n",
       "    lessonname  roomid  star           starttime  teacherid          kidname  \n",
       "19   Lesson 16    8102   5.0 2019-03-27 20:00:00        220  Nguyễn Bảo Trân  \n",
       "20   Lesson 17    8111   5.0 2019-03-28 20:00:00        223  Nguyễn Bảo Trân  \n",
       "71   Lesson 19    9314   NaN 2019-04-04 20:30:00        282  Nguyễn Bảo Trân  \n",
       "101  Lesson 18    8120   NaN 2019-03-30 20:00:00        218  Nguyễn Bảo Trân  \n",
       "132  Lesson 20    9323   NaN 2019-04-06 20:00:00        223  Nguyễn Bảo Trân  "
      ]
     },
     "execution_count": 64,
     "metadata": {},
     "output_type": "execute_result"
    }
   ],
   "source": [
    "df_sclass = df_cl_e[df_cl_e.studentid==236]\n",
    "df_sclass"
   ]
  },
  {
   "cell_type": "code",
   "execution_count": 83,
   "metadata": {},
   "outputs": [
    {
     "ename": "ValueError",
     "evalue": "\n    Invalid value of type 'builtins.list' received for the 'name' property of bar\n        Received value: ['1', '1', '1', '1', '1', '1']\n\n    The 'name' property is a string and must be specified as:\n      - A string\n      - A number that will be converted to a string",
     "output_type": "error",
     "traceback": [
      "\u001b[0;31m---------------------------------------------------------------------------\u001b[0m",
      "\u001b[0;31mValueError\u001b[0m                                Traceback (most recent call last)",
      "\u001b[0;32m<ipython-input-83-6420357862d8>\u001b[0m in \u001b[0;36m<module>\u001b[0;34m\u001b[0m\n\u001b[1;32m      2\u001b[0m     \u001b[0mx\u001b[0m \u001b[0;34m=\u001b[0m \u001b[0mdf_sclass\u001b[0m\u001b[0;34m.\u001b[0m\u001b[0mstarttime\u001b[0m\u001b[0;34m.\u001b[0m\u001b[0mdt\u001b[0m\u001b[0;34m.\u001b[0m\u001b[0mdate\u001b[0m\u001b[0;34m,\u001b[0m\u001b[0;34m\u001b[0m\u001b[0;34m\u001b[0m\u001b[0m\n\u001b[1;32m      3\u001b[0m     \u001b[0my\u001b[0m \u001b[0;34m=\u001b[0m \u001b[0mdf_sclass\u001b[0m\u001b[0;34m.\u001b[0m\u001b[0memotion_score\u001b[0m\u001b[0;34m,\u001b[0m\u001b[0;34m\u001b[0m\u001b[0;34m\u001b[0m\u001b[0m\n\u001b[0;32m----> 4\u001b[0;31m     \u001b[0mname\u001b[0m \u001b[0;34m=\u001b[0m \u001b[0;34m[\u001b[0m\u001b[0;34m'1'\u001b[0m\u001b[0;34m,\u001b[0m\u001b[0;34m'1'\u001b[0m\u001b[0;34m,\u001b[0m\u001b[0;34m'1'\u001b[0m\u001b[0;34m,\u001b[0m\u001b[0;34m'1'\u001b[0m\u001b[0;34m,\u001b[0m\u001b[0;34m'1'\u001b[0m\u001b[0;34m,\u001b[0m\u001b[0;34m'1'\u001b[0m\u001b[0;34m]\u001b[0m\u001b[0;34m\u001b[0m\u001b[0;34m\u001b[0m\u001b[0m\n\u001b[0m\u001b[1;32m      5\u001b[0m )\n\u001b[1;32m      6\u001b[0m \u001b[0mfig\u001b[0m \u001b[0;34m=\u001b[0m \u001b[0mgo\u001b[0m\u001b[0;34m.\u001b[0m\u001b[0mFigure\u001b[0m\u001b[0;34m(\u001b[0m\u001b[0mdata\u001b[0m\u001b[0;34m=\u001b[0m\u001b[0;34m[\u001b[0m\u001b[0md\u001b[0m\u001b[0;34m]\u001b[0m\u001b[0;34m)\u001b[0m\u001b[0;34m\u001b[0m\u001b[0;34m\u001b[0m\u001b[0m\n",
      "\u001b[0;32m~/miniconda2/envs/dev/lib/python3.6/site-packages/plotly/graph_objs/_bar.py\u001b[0m in \u001b[0;36m__init__\u001b[0;34m(self, arg, alignmentgroup, base, basesrc, cliponaxis, constraintext, customdata, customdatasrc, dx, dy, error_x, error_y, hoverinfo, hoverinfosrc, hoverlabel, hovertemplate, hovertemplatesrc, hovertext, hovertextsrc, ids, idssrc, insidetextfont, legendgroup, marker, name, offset, offsetgroup, offsetsrc, opacity, orientation, outsidetextfont, r, rsrc, selected, selectedpoints, showlegend, stream, t, text, textfont, textposition, textpositionsrc, textsrc, tsrc, uid, uirevision, unselected, visible, width, widthsrc, x, x0, xaxis, xcalendar, xsrc, y, y0, yaxis, ycalendar, ysrc, **kwargs)\u001b[0m\n\u001b[1;32m   2381\u001b[0m         \u001b[0mself\u001b[0m\u001b[0;34m[\u001b[0m\u001b[0;34m'marker'\u001b[0m\u001b[0;34m]\u001b[0m \u001b[0;34m=\u001b[0m \u001b[0mmarker\u001b[0m \u001b[0;32mif\u001b[0m \u001b[0mmarker\u001b[0m \u001b[0;32mis\u001b[0m \u001b[0;32mnot\u001b[0m \u001b[0;32mNone\u001b[0m \u001b[0;32melse\u001b[0m \u001b[0m_v\u001b[0m\u001b[0;34m\u001b[0m\u001b[0;34m\u001b[0m\u001b[0m\n\u001b[1;32m   2382\u001b[0m         \u001b[0m_v\u001b[0m \u001b[0;34m=\u001b[0m \u001b[0marg\u001b[0m\u001b[0;34m.\u001b[0m\u001b[0mpop\u001b[0m\u001b[0;34m(\u001b[0m\u001b[0;34m'name'\u001b[0m\u001b[0;34m,\u001b[0m \u001b[0;32mNone\u001b[0m\u001b[0;34m)\u001b[0m\u001b[0;34m\u001b[0m\u001b[0;34m\u001b[0m\u001b[0m\n\u001b[0;32m-> 2383\u001b[0;31m         \u001b[0mself\u001b[0m\u001b[0;34m[\u001b[0m\u001b[0;34m'name'\u001b[0m\u001b[0;34m]\u001b[0m \u001b[0;34m=\u001b[0m \u001b[0mname\u001b[0m \u001b[0;32mif\u001b[0m \u001b[0mname\u001b[0m \u001b[0;32mis\u001b[0m \u001b[0;32mnot\u001b[0m \u001b[0;32mNone\u001b[0m \u001b[0;32melse\u001b[0m \u001b[0m_v\u001b[0m\u001b[0;34m\u001b[0m\u001b[0;34m\u001b[0m\u001b[0m\n\u001b[0m\u001b[1;32m   2384\u001b[0m         \u001b[0m_v\u001b[0m \u001b[0;34m=\u001b[0m \u001b[0marg\u001b[0m\u001b[0;34m.\u001b[0m\u001b[0mpop\u001b[0m\u001b[0;34m(\u001b[0m\u001b[0;34m'offset'\u001b[0m\u001b[0;34m,\u001b[0m \u001b[0;32mNone\u001b[0m\u001b[0;34m)\u001b[0m\u001b[0;34m\u001b[0m\u001b[0;34m\u001b[0m\u001b[0m\n\u001b[1;32m   2385\u001b[0m         \u001b[0mself\u001b[0m\u001b[0;34m[\u001b[0m\u001b[0;34m'offset'\u001b[0m\u001b[0;34m]\u001b[0m \u001b[0;34m=\u001b[0m \u001b[0moffset\u001b[0m \u001b[0;32mif\u001b[0m \u001b[0moffset\u001b[0m \u001b[0;32mis\u001b[0m \u001b[0;32mnot\u001b[0m \u001b[0;32mNone\u001b[0m \u001b[0;32melse\u001b[0m \u001b[0m_v\u001b[0m\u001b[0;34m\u001b[0m\u001b[0;34m\u001b[0m\u001b[0m\n",
      "\u001b[0;32m~/miniconda2/envs/dev/lib/python3.6/site-packages/plotly/basedatatypes.py\u001b[0m in \u001b[0;36m__setitem__\u001b[0;34m(self, prop, value)\u001b[0m\n\u001b[1;32m   2839\u001b[0m             \u001b[0;31m# ### Handle simple property ###\u001b[0m\u001b[0;34m\u001b[0m\u001b[0;34m\u001b[0m\u001b[0;34m\u001b[0m\u001b[0m\n\u001b[1;32m   2840\u001b[0m             \u001b[0;32melse\u001b[0m\u001b[0;34m:\u001b[0m\u001b[0;34m\u001b[0m\u001b[0;34m\u001b[0m\u001b[0m\n\u001b[0;32m-> 2841\u001b[0;31m                 \u001b[0mself\u001b[0m\u001b[0;34m.\u001b[0m\u001b[0m_set_prop\u001b[0m\u001b[0;34m(\u001b[0m\u001b[0mprop\u001b[0m\u001b[0;34m,\u001b[0m \u001b[0mvalue\u001b[0m\u001b[0;34m)\u001b[0m\u001b[0;34m\u001b[0m\u001b[0;34m\u001b[0m\u001b[0m\n\u001b[0m\u001b[1;32m   2842\u001b[0m \u001b[0;34m\u001b[0m\u001b[0m\n\u001b[1;32m   2843\u001b[0m         \u001b[0;31m# Handle non-scalar case\u001b[0m\u001b[0;34m\u001b[0m\u001b[0;34m\u001b[0m\u001b[0;34m\u001b[0m\u001b[0m\n",
      "\u001b[0;32m~/miniconda2/envs/dev/lib/python3.6/site-packages/plotly/basedatatypes.py\u001b[0m in \u001b[0;36m_set_prop\u001b[0;34m(self, prop, val)\u001b[0m\n\u001b[1;32m   3080\u001b[0m                 \u001b[0;32mreturn\u001b[0m\u001b[0;34m\u001b[0m\u001b[0;34m\u001b[0m\u001b[0m\n\u001b[1;32m   3081\u001b[0m             \u001b[0;32melse\u001b[0m\u001b[0;34m:\u001b[0m\u001b[0;34m\u001b[0m\u001b[0;34m\u001b[0m\u001b[0m\n\u001b[0;32m-> 3082\u001b[0;31m                 \u001b[0;32mraise\u001b[0m \u001b[0merr\u001b[0m\u001b[0;34m\u001b[0m\u001b[0;34m\u001b[0m\u001b[0m\n\u001b[0m\u001b[1;32m   3083\u001b[0m \u001b[0;34m\u001b[0m\u001b[0m\n\u001b[1;32m   3084\u001b[0m         \u001b[0;31m# val is None\u001b[0m\u001b[0;34m\u001b[0m\u001b[0;34m\u001b[0m\u001b[0;34m\u001b[0m\u001b[0m\n",
      "\u001b[0;32m~/miniconda2/envs/dev/lib/python3.6/site-packages/plotly/basedatatypes.py\u001b[0m in \u001b[0;36m_set_prop\u001b[0;34m(self, prop, val)\u001b[0m\n\u001b[1;32m   3075\u001b[0m         \u001b[0mvalidator\u001b[0m \u001b[0;34m=\u001b[0m \u001b[0mself\u001b[0m\u001b[0;34m.\u001b[0m\u001b[0m_validators\u001b[0m\u001b[0;34m.\u001b[0m\u001b[0mget\u001b[0m\u001b[0;34m(\u001b[0m\u001b[0mprop\u001b[0m\u001b[0;34m)\u001b[0m\u001b[0;34m\u001b[0m\u001b[0;34m\u001b[0m\u001b[0m\n\u001b[1;32m   3076\u001b[0m         \u001b[0;32mtry\u001b[0m\u001b[0;34m:\u001b[0m\u001b[0;34m\u001b[0m\u001b[0;34m\u001b[0m\u001b[0m\n\u001b[0;32m-> 3077\u001b[0;31m             \u001b[0mval\u001b[0m \u001b[0;34m=\u001b[0m \u001b[0mvalidator\u001b[0m\u001b[0;34m.\u001b[0m\u001b[0mvalidate_coerce\u001b[0m\u001b[0;34m(\u001b[0m\u001b[0mval\u001b[0m\u001b[0;34m)\u001b[0m\u001b[0;34m\u001b[0m\u001b[0;34m\u001b[0m\u001b[0m\n\u001b[0m\u001b[1;32m   3078\u001b[0m         \u001b[0;32mexcept\u001b[0m \u001b[0mValueError\u001b[0m \u001b[0;32mas\u001b[0m \u001b[0merr\u001b[0m\u001b[0;34m:\u001b[0m\u001b[0;34m\u001b[0m\u001b[0;34m\u001b[0m\u001b[0m\n\u001b[1;32m   3079\u001b[0m             \u001b[0;32mif\u001b[0m \u001b[0mself\u001b[0m\u001b[0;34m.\u001b[0m\u001b[0m_skip_invalid\u001b[0m\u001b[0;34m:\u001b[0m\u001b[0;34m\u001b[0m\u001b[0;34m\u001b[0m\u001b[0m\n",
      "\u001b[0;32m~/miniconda2/envs/dev/lib/python3.6/site-packages/_plotly_utils/basevalidators.py\u001b[0m in \u001b[0;36mvalidate_coerce\u001b[0;34m(self, v)\u001b[0m\n\u001b[1;32m   1011\u001b[0m                     \u001b[0mv\u001b[0m \u001b[0;34m=\u001b[0m \u001b[0mstr\u001b[0m\u001b[0;34m(\u001b[0m\u001b[0mv\u001b[0m\u001b[0;34m)\u001b[0m\u001b[0;34m\u001b[0m\u001b[0;34m\u001b[0m\u001b[0m\n\u001b[1;32m   1012\u001b[0m                 \u001b[0;32melse\u001b[0m\u001b[0;34m:\u001b[0m\u001b[0;34m\u001b[0m\u001b[0;34m\u001b[0m\u001b[0m\n\u001b[0;32m-> 1013\u001b[0;31m                     \u001b[0mself\u001b[0m\u001b[0;34m.\u001b[0m\u001b[0mraise_invalid_val\u001b[0m\u001b[0;34m(\u001b[0m\u001b[0mv\u001b[0m\u001b[0;34m)\u001b[0m\u001b[0;34m\u001b[0m\u001b[0;34m\u001b[0m\u001b[0m\n\u001b[0m\u001b[1;32m   1014\u001b[0m \u001b[0;34m\u001b[0m\u001b[0m\n\u001b[1;32m   1015\u001b[0m             \u001b[0;32mif\u001b[0m \u001b[0mself\u001b[0m\u001b[0;34m.\u001b[0m\u001b[0mno_blank\u001b[0m \u001b[0;32mand\u001b[0m \u001b[0mlen\u001b[0m\u001b[0;34m(\u001b[0m\u001b[0mv\u001b[0m\u001b[0;34m)\u001b[0m \u001b[0;34m==\u001b[0m \u001b[0;36m0\u001b[0m\u001b[0;34m:\u001b[0m\u001b[0;34m\u001b[0m\u001b[0;34m\u001b[0m\u001b[0m\n",
      "\u001b[0;32m~/miniconda2/envs/dev/lib/python3.6/site-packages/_plotly_utils/basevalidators.py\u001b[0m in \u001b[0;36mraise_invalid_val\u001b[0;34m(self, v, inds)\u001b[0m\n\u001b[1;32m    285\u001b[0m             \u001b[0mtyp\u001b[0m\u001b[0;34m=\u001b[0m\u001b[0mtype_str\u001b[0m\u001b[0;34m(\u001b[0m\u001b[0mv\u001b[0m\u001b[0;34m)\u001b[0m\u001b[0;34m,\u001b[0m\u001b[0;34m\u001b[0m\u001b[0;34m\u001b[0m\u001b[0m\n\u001b[1;32m    286\u001b[0m             \u001b[0mv\u001b[0m\u001b[0;34m=\u001b[0m\u001b[0mrepr\u001b[0m\u001b[0;34m(\u001b[0m\u001b[0mv\u001b[0m\u001b[0;34m)\u001b[0m\u001b[0;34m,\u001b[0m\u001b[0;34m\u001b[0m\u001b[0;34m\u001b[0m\u001b[0m\n\u001b[0;32m--> 287\u001b[0;31m             valid_clr_desc=self.description()))\n\u001b[0m\u001b[1;32m    288\u001b[0m \u001b[0;34m\u001b[0m\u001b[0m\n\u001b[1;32m    289\u001b[0m     \u001b[0;32mdef\u001b[0m \u001b[0mraise_invalid_elements\u001b[0m\u001b[0;34m(\u001b[0m\u001b[0mself\u001b[0m\u001b[0;34m,\u001b[0m \u001b[0minvalid_els\u001b[0m\u001b[0;34m)\u001b[0m\u001b[0;34m:\u001b[0m\u001b[0;34m\u001b[0m\u001b[0;34m\u001b[0m\u001b[0m\n",
      "\u001b[0;31mValueError\u001b[0m: \n    Invalid value of type 'builtins.list' received for the 'name' property of bar\n        Received value: ['1', '1', '1', '1', '1', '1']\n\n    The 'name' property is a string and must be specified as:\n      - A string\n      - A number that will be converted to a string"
     ]
    }
   ],
   "source": [
    "d = go.Bar(\n",
    "    x = df_sclass.starttime.dt.date,\n",
    "    y = df_sclass.emotion_score,\n",
    "    name = ['1','1','1','1','1','1']\n",
    ")\n",
    "fig = go.Figure(data=[d])\n",
    "py.iplot(fig)"
   ]
  },
  {
   "cell_type": "markdown",
   "metadata": {},
   "source": [
    "# EMOTION GG"
   ]
  },
  {
   "cell_type": "code",
   "execution_count": 15,
   "metadata": {},
   "outputs": [
    {
     "data": {
      "text/html": [
       "<div>\n",
       "<style scoped>\n",
       "    .dataframe tbody tr th:only-of-type {\n",
       "        vertical-align: middle;\n",
       "    }\n",
       "\n",
       "    .dataframe tbody tr th {\n",
       "        vertical-align: top;\n",
       "    }\n",
       "\n",
       "    .dataframe thead th {\n",
       "        text-align: right;\n",
       "    }\n",
       "</style>\n",
       "<table border=\"1\" class=\"dataframe\">\n",
       "  <thead>\n",
       "    <tr style=\"text-align: right;\">\n",
       "      <th></th>\n",
       "      <th>_id</th>\n",
       "      <th>angerLikelihood</th>\n",
       "      <th>angry</th>\n",
       "      <th>disgust</th>\n",
       "      <th>emotion</th>\n",
       "      <th>fear</th>\n",
       "      <th>happy</th>\n",
       "      <th>id_class</th>\n",
       "      <th>joyLikelihood</th>\n",
       "      <th>neutral</th>\n",
       "      <th>sad</th>\n",
       "      <th>sorrowLikelihood</th>\n",
       "      <th>surprise</th>\n",
       "      <th>surpriseLikelihood</th>\n",
       "      <th>time_created</th>\n",
       "      <th>time_video</th>\n",
       "      <th>user_role</th>\n",
       "      <th>time_video_cut</th>\n",
       "      <th>emotion_score</th>\n",
       "    </tr>\n",
       "  </thead>\n",
       "  <tbody>\n",
       "    <tr>\n",
       "      <th>0</th>\n",
       "      <td>5caef2f2be34921ef00a12f5</td>\n",
       "      <td>NaN</td>\n",
       "      <td>0.0</td>\n",
       "      <td>0.0</td>\n",
       "      <td>NaN</td>\n",
       "      <td>0.0</td>\n",
       "      <td>0.0</td>\n",
       "      <td>8156</td>\n",
       "      <td>NaN</td>\n",
       "      <td>0.0</td>\n",
       "      <td>0.0</td>\n",
       "      <td>NaN</td>\n",
       "      <td>0.0</td>\n",
       "      <td>NaN</td>\n",
       "      <td>-49</td>\n",
       "      <td>1.0</td>\n",
       "      <td>teacher</td>\n",
       "      <td>(0.0, 30.0]</td>\n",
       "      <td>4</td>\n",
       "    </tr>\n",
       "    <tr>\n",
       "      <th>1</th>\n",
       "      <td>5caef2f2be34921ef00a12f6</td>\n",
       "      <td>NaN</td>\n",
       "      <td>0.0</td>\n",
       "      <td>0.0</td>\n",
       "      <td>NaN</td>\n",
       "      <td>0.0</td>\n",
       "      <td>0.0</td>\n",
       "      <td>8156</td>\n",
       "      <td>NaN</td>\n",
       "      <td>0.0</td>\n",
       "      <td>0.0</td>\n",
       "      <td>NaN</td>\n",
       "      <td>0.0</td>\n",
       "      <td>NaN</td>\n",
       "      <td>-49</td>\n",
       "      <td>1.0</td>\n",
       "      <td>student</td>\n",
       "      <td>(0.0, 30.0]</td>\n",
       "      <td>4</td>\n",
       "    </tr>\n",
       "    <tr>\n",
       "      <th>2</th>\n",
       "      <td>5caef2f2be34921ef00a12f7</td>\n",
       "      <td>NaN</td>\n",
       "      <td>0.0</td>\n",
       "      <td>0.0</td>\n",
       "      <td>NaN</td>\n",
       "      <td>0.0</td>\n",
       "      <td>0.0</td>\n",
       "      <td>8156</td>\n",
       "      <td>NaN</td>\n",
       "      <td>0.0</td>\n",
       "      <td>0.0</td>\n",
       "      <td>NaN</td>\n",
       "      <td>0.0</td>\n",
       "      <td>NaN</td>\n",
       "      <td>-48</td>\n",
       "      <td>2.0</td>\n",
       "      <td>teacher</td>\n",
       "      <td>(0.0, 30.0]</td>\n",
       "      <td>4</td>\n",
       "    </tr>\n",
       "    <tr>\n",
       "      <th>3</th>\n",
       "      <td>5caef2f2be34921ef00a12f8</td>\n",
       "      <td>NaN</td>\n",
       "      <td>0.0</td>\n",
       "      <td>0.0</td>\n",
       "      <td>NaN</td>\n",
       "      <td>0.0</td>\n",
       "      <td>0.0</td>\n",
       "      <td>8156</td>\n",
       "      <td>NaN</td>\n",
       "      <td>0.0</td>\n",
       "      <td>0.0</td>\n",
       "      <td>NaN</td>\n",
       "      <td>0.0</td>\n",
       "      <td>NaN</td>\n",
       "      <td>-48</td>\n",
       "      <td>2.0</td>\n",
       "      <td>student</td>\n",
       "      <td>(0.0, 30.0]</td>\n",
       "      <td>4</td>\n",
       "    </tr>\n",
       "    <tr>\n",
       "      <th>4</th>\n",
       "      <td>5caef2f2be34921ef00a12f9</td>\n",
       "      <td>NaN</td>\n",
       "      <td>0.0</td>\n",
       "      <td>0.0</td>\n",
       "      <td>NaN</td>\n",
       "      <td>0.0</td>\n",
       "      <td>0.0</td>\n",
       "      <td>8156</td>\n",
       "      <td>NaN</td>\n",
       "      <td>0.0</td>\n",
       "      <td>0.0</td>\n",
       "      <td>NaN</td>\n",
       "      <td>0.0</td>\n",
       "      <td>NaN</td>\n",
       "      <td>-47</td>\n",
       "      <td>3.0</td>\n",
       "      <td>teacher</td>\n",
       "      <td>(0.0, 30.0]</td>\n",
       "      <td>4</td>\n",
       "    </tr>\n",
       "  </tbody>\n",
       "</table>\n",
       "</div>"
      ],
      "text/plain": [
       "                        _id  angerLikelihood  angry  disgust emotion  fear  \\\n",
       "0  5caef2f2be34921ef00a12f5              NaN    0.0      0.0     NaN   0.0   \n",
       "1  5caef2f2be34921ef00a12f6              NaN    0.0      0.0     NaN   0.0   \n",
       "2  5caef2f2be34921ef00a12f7              NaN    0.0      0.0     NaN   0.0   \n",
       "3  5caef2f2be34921ef00a12f8              NaN    0.0      0.0     NaN   0.0   \n",
       "4  5caef2f2be34921ef00a12f9              NaN    0.0      0.0     NaN   0.0   \n",
       "\n",
       "   happy  id_class  joyLikelihood  neutral  sad  sorrowLikelihood  surprise  \\\n",
       "0    0.0      8156            NaN      0.0  0.0               NaN       0.0   \n",
       "1    0.0      8156            NaN      0.0  0.0               NaN       0.0   \n",
       "2    0.0      8156            NaN      0.0  0.0               NaN       0.0   \n",
       "3    0.0      8156            NaN      0.0  0.0               NaN       0.0   \n",
       "4    0.0      8156            NaN      0.0  0.0               NaN       0.0   \n",
       "\n",
       "   surpriseLikelihood  time_created  time_video user_role time_video_cut  \\\n",
       "0                 NaN           -49         1.0   teacher    (0.0, 30.0]   \n",
       "1                 NaN           -49         1.0   student    (0.0, 30.0]   \n",
       "2                 NaN           -48         2.0   teacher    (0.0, 30.0]   \n",
       "3                 NaN           -48         2.0   student    (0.0, 30.0]   \n",
       "4                 NaN           -47         3.0   teacher    (0.0, 30.0]   \n",
       "\n",
       "   emotion_score  \n",
       "0              4  \n",
       "1              4  \n",
       "2              4  \n",
       "3              4  \n",
       "4              4  "
      ]
     },
     "execution_count": 15,
     "metadata": {},
     "output_type": "execute_result"
    }
   ],
   "source": [
    "df_e_gg.head()"
   ]
  },
  {
   "cell_type": "code",
   "execution_count": 16,
   "metadata": {},
   "outputs": [
    {
     "data": {
      "text/html": [
       "<div>\n",
       "<style scoped>\n",
       "    .dataframe tbody tr th:only-of-type {\n",
       "        vertical-align: middle;\n",
       "    }\n",
       "\n",
       "    .dataframe tbody tr th {\n",
       "        vertical-align: top;\n",
       "    }\n",
       "\n",
       "    .dataframe thead th {\n",
       "        text-align: right;\n",
       "    }\n",
       "</style>\n",
       "<table border=\"1\" class=\"dataframe\">\n",
       "  <thead>\n",
       "    <tr style=\"text-align: right;\">\n",
       "      <th></th>\n",
       "      <th>day_learned</th>\n",
       "      <th>is_completed</th>\n",
       "      <th>studentid</th>\n",
       "      <th>lessonid</th>\n",
       "      <th>lessonname</th>\n",
       "      <th>roomid</th>\n",
       "      <th>star</th>\n",
       "      <th>starttime</th>\n",
       "      <th>teacherid</th>\n",
       "      <th>kidname</th>\n",
       "    </tr>\n",
       "  </thead>\n",
       "  <tbody>\n",
       "    <tr>\n",
       "      <th>0</th>\n",
       "      <td>0</td>\n",
       "      <td>1</td>\n",
       "      <td>235</td>\n",
       "      <td>502</td>\n",
       "      <td>Lesson 16</td>\n",
       "      <td>8372</td>\n",
       "      <td>5.0</td>\n",
       "      <td>2019-03-27 21:00:00</td>\n",
       "      <td>674</td>\n",
       "      <td>Đặng Thị Xuân Băng</td>\n",
       "    </tr>\n",
       "    <tr>\n",
       "      <th>1</th>\n",
       "      <td>0</td>\n",
       "      <td>1</td>\n",
       "      <td>237</td>\n",
       "      <td>505</td>\n",
       "      <td>Lesson 19</td>\n",
       "      <td>8129</td>\n",
       "      <td>NaN</td>\n",
       "      <td>2019-03-27 21:00:00</td>\n",
       "      <td>282</td>\n",
       "      <td>Nguyễn Minh Châu</td>\n",
       "    </tr>\n",
       "    <tr>\n",
       "      <th>2</th>\n",
       "      <td>0</td>\n",
       "      <td>1</td>\n",
       "      <td>704</td>\n",
       "      <td>489</td>\n",
       "      <td>Lesson 1</td>\n",
       "      <td>7727</td>\n",
       "      <td>5.0</td>\n",
       "      <td>2019-03-27 21:00:00</td>\n",
       "      <td>226</td>\n",
       "      <td>Nguyễn Hoàng Hiệp</td>\n",
       "    </tr>\n",
       "    <tr>\n",
       "      <th>3</th>\n",
       "      <td>0</td>\n",
       "      <td>1</td>\n",
       "      <td>752</td>\n",
       "      <td>508</td>\n",
       "      <td>Lesson 2</td>\n",
       "      <td>8684</td>\n",
       "      <td>5.0</td>\n",
       "      <td>2019-03-27 20:30:00</td>\n",
       "      <td>686</td>\n",
       "      <td>Nguyễn Đình Phú</td>\n",
       "    </tr>\n",
       "    <tr>\n",
       "      <th>4</th>\n",
       "      <td>0</td>\n",
       "      <td>1</td>\n",
       "      <td>818</td>\n",
       "      <td>461</td>\n",
       "      <td>trial</td>\n",
       "      <td>8540</td>\n",
       "      <td>5.0</td>\n",
       "      <td>2019-03-27 20:30:00</td>\n",
       "      <td>217</td>\n",
       "      <td>Nguyễn Ngọc Hà An</td>\n",
       "    </tr>\n",
       "  </tbody>\n",
       "</table>\n",
       "</div>"
      ],
      "text/plain": [
       "   day_learned  is_completed  studentid  lessonid lessonname  roomid  star  \\\n",
       "0            0             1        235       502  Lesson 16    8372   5.0   \n",
       "1            0             1        237       505  Lesson 19    8129   NaN   \n",
       "2            0             1        704       489   Lesson 1    7727   5.0   \n",
       "3            0             1        752       508   Lesson 2    8684   5.0   \n",
       "4            0             1        818       461      trial    8540   5.0   \n",
       "\n",
       "            starttime  teacherid             kidname  \n",
       "0 2019-03-27 21:00:00        674  Đặng Thị Xuân Băng  \n",
       "1 2019-03-27 21:00:00        282    Nguyễn Minh Châu  \n",
       "2 2019-03-27 21:00:00        226   Nguyễn Hoàng Hiệp  \n",
       "3 2019-03-27 20:30:00        686     Nguyễn Đình Phú  \n",
       "4 2019-03-27 20:30:00        217   Nguyễn Ngọc Hà An  "
      ]
     },
     "execution_count": 16,
     "metadata": {},
     "output_type": "execute_result"
    }
   ],
   "source": [
    "df_cl.head()"
   ]
  },
  {
   "cell_type": "code",
   "execution_count": 17,
   "metadata": {},
   "outputs": [],
   "source": []
  },
  {
   "cell_type": "code",
   "execution_count": 18,
   "metadata": {},
   "outputs": [],
   "source": [
    "import matplotlib.pyplot as plt"
   ]
  },
  {
   "cell_type": "code",
   "execution_count": 22,
   "metadata": {},
   "outputs": [
    {
     "data": {
      "text/html": [
       "<div>\n",
       "<style scoped>\n",
       "    .dataframe tbody tr th:only-of-type {\n",
       "        vertical-align: middle;\n",
       "    }\n",
       "\n",
       "    .dataframe tbody tr th {\n",
       "        vertical-align: top;\n",
       "    }\n",
       "\n",
       "    .dataframe thead th {\n",
       "        text-align: right;\n",
       "    }\n",
       "</style>\n",
       "<table border=\"1\" class=\"dataframe\">\n",
       "  <thead>\n",
       "    <tr style=\"text-align: right;\">\n",
       "      <th></th>\n",
       "      <th>_id</th>\n",
       "      <th>angerLikelihood</th>\n",
       "      <th>angry</th>\n",
       "      <th>disgust</th>\n",
       "      <th>emotion</th>\n",
       "      <th>fear</th>\n",
       "      <th>happy</th>\n",
       "      <th>id_class</th>\n",
       "      <th>joyLikelihood</th>\n",
       "      <th>neutral</th>\n",
       "      <th>sad</th>\n",
       "      <th>sorrowLikelihood</th>\n",
       "      <th>surprise</th>\n",
       "      <th>surpriseLikelihood</th>\n",
       "      <th>time_created</th>\n",
       "      <th>time_video</th>\n",
       "      <th>user_role</th>\n",
       "      <th>time_video_cut</th>\n",
       "      <th>emotion_score</th>\n",
       "    </tr>\n",
       "  </thead>\n",
       "  <tbody>\n",
       "    <tr>\n",
       "      <th>0</th>\n",
       "      <td>5caef2f2be34921ef00a12f5</td>\n",
       "      <td>NaN</td>\n",
       "      <td>0.0</td>\n",
       "      <td>0.0</td>\n",
       "      <td>NaN</td>\n",
       "      <td>0.0</td>\n",
       "      <td>0.0</td>\n",
       "      <td>8156</td>\n",
       "      <td>NaN</td>\n",
       "      <td>0.0</td>\n",
       "      <td>0.0</td>\n",
       "      <td>NaN</td>\n",
       "      <td>0.0</td>\n",
       "      <td>NaN</td>\n",
       "      <td>-49</td>\n",
       "      <td>1.0</td>\n",
       "      <td>teacher</td>\n",
       "      <td>(0.0, 30.0]</td>\n",
       "      <td>4</td>\n",
       "    </tr>\n",
       "    <tr>\n",
       "      <th>1</th>\n",
       "      <td>5caef2f2be34921ef00a12f6</td>\n",
       "      <td>NaN</td>\n",
       "      <td>0.0</td>\n",
       "      <td>0.0</td>\n",
       "      <td>NaN</td>\n",
       "      <td>0.0</td>\n",
       "      <td>0.0</td>\n",
       "      <td>8156</td>\n",
       "      <td>NaN</td>\n",
       "      <td>0.0</td>\n",
       "      <td>0.0</td>\n",
       "      <td>NaN</td>\n",
       "      <td>0.0</td>\n",
       "      <td>NaN</td>\n",
       "      <td>-49</td>\n",
       "      <td>1.0</td>\n",
       "      <td>student</td>\n",
       "      <td>(0.0, 30.0]</td>\n",
       "      <td>4</td>\n",
       "    </tr>\n",
       "    <tr>\n",
       "      <th>2</th>\n",
       "      <td>5caef2f2be34921ef00a12f7</td>\n",
       "      <td>NaN</td>\n",
       "      <td>0.0</td>\n",
       "      <td>0.0</td>\n",
       "      <td>NaN</td>\n",
       "      <td>0.0</td>\n",
       "      <td>0.0</td>\n",
       "      <td>8156</td>\n",
       "      <td>NaN</td>\n",
       "      <td>0.0</td>\n",
       "      <td>0.0</td>\n",
       "      <td>NaN</td>\n",
       "      <td>0.0</td>\n",
       "      <td>NaN</td>\n",
       "      <td>-48</td>\n",
       "      <td>2.0</td>\n",
       "      <td>teacher</td>\n",
       "      <td>(0.0, 30.0]</td>\n",
       "      <td>4</td>\n",
       "    </tr>\n",
       "    <tr>\n",
       "      <th>3</th>\n",
       "      <td>5caef2f2be34921ef00a12f8</td>\n",
       "      <td>NaN</td>\n",
       "      <td>0.0</td>\n",
       "      <td>0.0</td>\n",
       "      <td>NaN</td>\n",
       "      <td>0.0</td>\n",
       "      <td>0.0</td>\n",
       "      <td>8156</td>\n",
       "      <td>NaN</td>\n",
       "      <td>0.0</td>\n",
       "      <td>0.0</td>\n",
       "      <td>NaN</td>\n",
       "      <td>0.0</td>\n",
       "      <td>NaN</td>\n",
       "      <td>-48</td>\n",
       "      <td>2.0</td>\n",
       "      <td>student</td>\n",
       "      <td>(0.0, 30.0]</td>\n",
       "      <td>4</td>\n",
       "    </tr>\n",
       "    <tr>\n",
       "      <th>4</th>\n",
       "      <td>5caef2f2be34921ef00a12f9</td>\n",
       "      <td>NaN</td>\n",
       "      <td>0.0</td>\n",
       "      <td>0.0</td>\n",
       "      <td>NaN</td>\n",
       "      <td>0.0</td>\n",
       "      <td>0.0</td>\n",
       "      <td>8156</td>\n",
       "      <td>NaN</td>\n",
       "      <td>0.0</td>\n",
       "      <td>0.0</td>\n",
       "      <td>NaN</td>\n",
       "      <td>0.0</td>\n",
       "      <td>NaN</td>\n",
       "      <td>-47</td>\n",
       "      <td>3.0</td>\n",
       "      <td>teacher</td>\n",
       "      <td>(0.0, 30.0]</td>\n",
       "      <td>4</td>\n",
       "    </tr>\n",
       "  </tbody>\n",
       "</table>\n",
       "</div>"
      ],
      "text/plain": [
       "                        _id  angerLikelihood  angry  disgust emotion  fear  \\\n",
       "0  5caef2f2be34921ef00a12f5              NaN    0.0      0.0     NaN   0.0   \n",
       "1  5caef2f2be34921ef00a12f6              NaN    0.0      0.0     NaN   0.0   \n",
       "2  5caef2f2be34921ef00a12f7              NaN    0.0      0.0     NaN   0.0   \n",
       "3  5caef2f2be34921ef00a12f8              NaN    0.0      0.0     NaN   0.0   \n",
       "4  5caef2f2be34921ef00a12f9              NaN    0.0      0.0     NaN   0.0   \n",
       "\n",
       "   happy  id_class  joyLikelihood  neutral  sad  sorrowLikelihood  surprise  \\\n",
       "0    0.0      8156            NaN      0.0  0.0               NaN       0.0   \n",
       "1    0.0      8156            NaN      0.0  0.0               NaN       0.0   \n",
       "2    0.0      8156            NaN      0.0  0.0               NaN       0.0   \n",
       "3    0.0      8156            NaN      0.0  0.0               NaN       0.0   \n",
       "4    0.0      8156            NaN      0.0  0.0               NaN       0.0   \n",
       "\n",
       "   surpriseLikelihood  time_created  time_video user_role time_video_cut  \\\n",
       "0                 NaN           -49         1.0   teacher    (0.0, 30.0]   \n",
       "1                 NaN           -49         1.0   student    (0.0, 30.0]   \n",
       "2                 NaN           -48         2.0   teacher    (0.0, 30.0]   \n",
       "3                 NaN           -48         2.0   student    (0.0, 30.0]   \n",
       "4                 NaN           -47         3.0   teacher    (0.0, 30.0]   \n",
       "\n",
       "   emotion_score  \n",
       "0              4  \n",
       "1              4  \n",
       "2              4  \n",
       "3              4  \n",
       "4              4  "
      ]
     },
     "execution_count": 22,
     "metadata": {},
     "output_type": "execute_result"
    }
   ],
   "source": [
    "df_sclass.head()"
   ]
  },
  {
   "cell_type": "code",
   "execution_count": 52,
   "metadata": {},
   "outputs": [],
   "source": [
    "# how match does our algorithm do compare to the google"
   ]
  },
  {
   "cell_type": "code",
   "execution_count": 49,
   "metadata": {},
   "outputs": [],
   "source": [
    "classes = [8066,9467]\n",
    "df_gg = df_e_gg[df_e_gg.id_class==classes[1]]\n",
    "df = df_e[df_e.id_class==classes[1]]"
   ]
  },
  {
   "cell_type": "code",
   "execution_count": 50,
   "metadata": {},
   "outputs": [
    {
     "data": {
      "text/plain": [
       "((7648, 19), (7648, 15))"
      ]
     },
     "execution_count": 50,
     "metadata": {},
     "output_type": "execute_result"
    }
   ],
   "source": [
    "df_gg.shape,df.shape"
   ]
  },
  {
   "cell_type": "code",
   "execution_count": 51,
   "metadata": {},
   "outputs": [
    {
     "data": {
      "text/plain": [
       "0.7577144351464435"
      ]
     },
     "execution_count": 51,
     "metadata": {},
     "output_type": "execute_result"
    }
   ],
   "source": [
    "(np.array(df_gg.emotion_score) == np.array(df.emotion_score)).mean()"
   ]
  },
  {
   "cell_type": "code",
   "execution_count": null,
   "metadata": {},
   "outputs": [],
   "source": []
  },
  {
   "cell_type": "code",
   "execution_count": null,
   "metadata": {},
   "outputs": [],
   "source": []
  },
  {
   "cell_type": "code",
   "execution_count": null,
   "metadata": {},
   "outputs": [],
   "source": []
  },
  {
   "cell_type": "code",
   "execution_count": null,
   "metadata": {},
   "outputs": [],
   "source": []
  },
  {
   "cell_type": "code",
   "execution_count": null,
   "metadata": {},
   "outputs": [],
   "source": []
  },
  {
   "cell_type": "code",
   "execution_count": null,
   "metadata": {},
   "outputs": [],
   "source": []
  },
  {
   "cell_type": "code",
   "execution_count": null,
   "metadata": {},
   "outputs": [],
   "source": []
  }
 ],
 "metadata": {
  "kernelspec": {
   "display_name": "Python 3",
   "language": "python",
   "name": "python3"
  },
  "language_info": {
   "codemirror_mode": {
    "name": "ipython",
    "version": 3
   },
   "file_extension": ".py",
   "mimetype": "text/x-python",
   "name": "python",
   "nbconvert_exporter": "python",
   "pygments_lexer": "ipython3",
   "version": "3.7.3"
  }
 },
 "nbformat": 4,
 "nbformat_minor": 2
}
